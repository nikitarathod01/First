{
 "cells": [
  {
   "cell_type": "markdown",
   "id": "566567ae",
   "metadata": {},
   "source": [
    "# Project(Taj Hotel Reviews Sentiment Analysis)"
   ]
  },
  {
   "cell_type": "raw",
   "id": "83615fec",
   "metadata": {},
   "source": [
    "Whenver we are looking for hotels for vacation or travel , we always prefer a hotel known for its services. The best way to find out whether a hotel is right for you or not is to find out what people are saying about the hotel who have stayed there before. Now it is very dificult to read the experience of each person who has given their opinion on the services of the hotel. "
   ]
  },
  {
   "cell_type": "code",
   "execution_count": 1,
   "id": "c3fd5f73",
   "metadata": {},
   "outputs": [],
   "source": [
    "import numpy as np\n",
    "import pandas as pd "
   ]
  },
  {
   "cell_type": "code",
   "execution_count": 2,
   "id": "9b882967",
   "metadata": {},
   "outputs": [],
   "source": [
    "df = pd.read_csv(\"D:\\\\Edbyte data analysis course\\\\hotel.csv\")"
   ]
  },
  {
   "cell_type": "code",
   "execution_count": 3,
   "id": "235243f4",
   "metadata": {},
   "outputs": [
    {
     "data": {
      "text/html": [
       "<div>\n",
       "<style scoped>\n",
       "    .dataframe tbody tr th:only-of-type {\n",
       "        vertical-align: middle;\n",
       "    }\n",
       "\n",
       "    .dataframe tbody tr th {\n",
       "        vertical-align: top;\n",
       "    }\n",
       "\n",
       "    .dataframe thead th {\n",
       "        text-align: right;\n",
       "    }\n",
       "</style>\n",
       "<table border=\"1\" class=\"dataframe\">\n",
       "  <thead>\n",
       "    <tr style=\"text-align: right;\">\n",
       "      <th></th>\n",
       "      <th>Review</th>\n",
       "      <th>Rating</th>\n",
       "    </tr>\n",
       "  </thead>\n",
       "  <tbody>\n",
       "    <tr>\n",
       "      <th>0</th>\n",
       "      <td>nice hotel expensive parking got good deal sta...</td>\n",
       "      <td>4</td>\n",
       "    </tr>\n",
       "    <tr>\n",
       "      <th>1</th>\n",
       "      <td>ok nothing special charge diamond member hilto...</td>\n",
       "      <td>2</td>\n",
       "    </tr>\n",
       "    <tr>\n",
       "      <th>2</th>\n",
       "      <td>nice rooms not 4* experience hotel monaco seat...</td>\n",
       "      <td>3</td>\n",
       "    </tr>\n",
       "    <tr>\n",
       "      <th>3</th>\n",
       "      <td>unique, great stay, wonderful time hotel monac...</td>\n",
       "      <td>5</td>\n",
       "    </tr>\n",
       "    <tr>\n",
       "      <th>4</th>\n",
       "      <td>great stay great stay, went seahawk game aweso...</td>\n",
       "      <td>5</td>\n",
       "    </tr>\n",
       "  </tbody>\n",
       "</table>\n",
       "</div>"
      ],
      "text/plain": [
       "                                              Review  Rating\n",
       "0  nice hotel expensive parking got good deal sta...       4\n",
       "1  ok nothing special charge diamond member hilto...       2\n",
       "2  nice rooms not 4* experience hotel monaco seat...       3\n",
       "3  unique, great stay, wonderful time hotel monac...       5\n",
       "4  great stay great stay, went seahawk game aweso...       5"
      ]
     },
     "execution_count": 3,
     "metadata": {},
     "output_type": "execute_result"
    }
   ],
   "source": [
    "df.head()"
   ]
  },
  {
   "cell_type": "code",
   "execution_count": 4,
   "id": "b27fd900",
   "metadata": {},
   "outputs": [],
   "source": [
    "import seaborn as sns \n",
    "import matplotlib.pyplot as plt "
   ]
  },
  {
   "cell_type": "code",
   "execution_count": null,
   "id": "76ccf67b",
   "metadata": {},
   "outputs": [],
   "source": [
    "import nltk\n",
    "nltk.download()\n",
    "from nltk.sentiment.vader import SentimentIntensityAnalyzer "
   ]
  },
  {
   "cell_type": "code",
   "execution_count": 5,
   "id": "44e01351",
   "metadata": {},
   "outputs": [
    {
     "data": {
      "text/plain": [
       "Rating\n",
       "5    9054\n",
       "4    6039\n",
       "3    2184\n",
       "2    1793\n",
       "1    1421\n",
       "Name: count, dtype: int64"
      ]
     },
     "execution_count": 5,
     "metadata": {},
     "output_type": "execute_result"
    }
   ],
   "source": [
    "ratings = df['Rating'].value_counts()\n",
    "ratings"
   ]
  },
  {
   "cell_type": "code",
   "execution_count": 6,
   "id": "cf83eddb",
   "metadata": {},
   "outputs": [
    {
     "data": {
      "text/plain": [
       "Index([5, 4, 3, 2, 1], dtype='int64', name='Rating')"
      ]
     },
     "execution_count": 6,
     "metadata": {},
     "output_type": "execute_result"
    }
   ],
   "source": [
    "numbers = ratings.index \n",
    "numbers "
   ]
  },
  {
   "cell_type": "code",
   "execution_count": 7,
   "id": "4e01f72f",
   "metadata": {},
   "outputs": [
    {
     "data": {
      "text/plain": [
       "array([9054, 6039, 2184, 1793, 1421], dtype=int64)"
      ]
     },
     "execution_count": 7,
     "metadata": {},
     "output_type": "execute_result"
    }
   ],
   "source": [
    "quantity = ratings.values \n",
    "quantity"
   ]
  },
  {
   "cell_type": "code",
   "execution_count": 8,
   "id": "89379e9c",
   "metadata": {},
   "outputs": [
    {
     "data": {
      "image/png": "[encoded data removed]",
      "text/plain": [
       "<Figure size 500x500 with 1 Axes>"
      ]
     },
     "metadata": {},
     "output_type": "display_data"
    }
   ],
   "source": [
    "custom_colors = ['skyblue','yellowgreen','tomato', 'blue', 'red']\n",
    "plt.figure(figsize=(5,5))\n",
    "plt.pie(quantity, labels = numbers, colors = custom_colors)\n",
    "central_circle = plt.Circle((0,0) , 0.5 , color = 'white')\n",
    "fig = plt.gcf()\n",
    "fig.gca().add_artist(central_circle)\n",
    "plt.rc('font', size = 12)\n",
    "plt.title(\"Taj Hotel Reviews\" , fontsize = 20)\n",
    "plt.show()"
   ]
  },
  {
   "cell_type": "code",
   "execution_count": null,
   "id": "d94d9cd8",
   "metadata": {},
   "outputs": [],
   "source": [
    "sentiments = SentimentIntensityAnalyzer() "
   ]
  },
  {
   "cell_type": "code",
   "execution_count": null,
   "id": "1c52b4cb",
   "metadata": {},
   "outputs": [],
   "source": [
    "df['Positive'] = [sentiments.polarity_scores(i)['pos'] for i in df['Review']]\n",
    "df['Negative'] = [sentiments.polarity_scores(i)['neg'] for i in df['Review']]\n",
    "df['Neutral'] = [sentiments.polarity_scores(i)['neu'] for i in df['Review']]"
   ]
  },
  {
   "cell_type": "code",
   "execution_count": null,
   "id": "ac4cd2ac",
   "metadata": {},
   "outputs": [],
   "source": [
    "df.head()"
   ]
  },
  {
   "cell_type": "markdown",
   "id": "608b5125",
   "metadata": {},
   "source": [
    "# According to the reviews , hotel guests seem satisfied with the services . Now let's have a look at how most people think about hotel services based on the sentiment of their reviews . "
   ]
  },
  {
   "cell_type": "code",
   "execution_count": null,
   "id": "5772bc05",
   "metadata": {},
   "outputs": [],
   "source": [
    "x = sum(df['Positive'])\n",
    "y = sum(df['Negative'])\n",
    "z = sum(df['Neutral'])"
   ]
  },
  {
   "cell_type": "code",
   "execution_count": null,
   "id": "f13fe462",
   "metadata": {},
   "outputs": [],
   "source": [
    "print(\"Total Positive:\" , x)\n",
    "print(\"Total Negative:\" , y)\n",
    "print(\"Total Neutral:\" , z)"
   ]
  },
  {
   "cell_type": "code",
   "execution_count": null,
   "id": "cef0f5bf",
   "metadata": {},
   "outputs": [],
   "source": [
    "def sentiment_score(a,b,c):\n",
    "    if(a>b) and (a>c):\n",
    "        print(\"Positive😍\")\n",
    "    elif(b>a) and (b>a):\n",
    "        print(\"Negative😣\")\n",
    "    else:\n",
    "        print(\"Neutral😐\")\n",
    "sentiment_score(x,y,z)"
   ]
  },
  {
   "cell_type": "code",
   "execution_count": null,
   "id": "bbf2711c",
   "metadata": {},
   "outputs": [],
   "source": []
  }
 ],
 "metadata": {
  "kernelspec": {
   "display_name": "Python 3 (ipykernel)",
   "language": "python",
   "name": "python3"
  },
  "language_info": {
   "codemirror_mode": {
    "name": "ipython",
    "version": 3
   },
   "file_extension": ".py",
   "mimetype": "text/x-python",
   "name": "python",
   "nbconvert_exporter": "python",
   "pygments_lexer": "ipython3",
   "version": "3.11.5"
  }
 },
 "nbformat": 4,
 "nbformat_minor": 5
}
